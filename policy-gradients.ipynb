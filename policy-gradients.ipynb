{
 "cells": [
  {
   "cell_type": "code",
   "execution_count": 1,
   "metadata": {},
   "outputs": [
    {
     "name": "stdout",
     "output_type": "stream",
     "text": [
      "Reward for this episode was: 13.0\n",
      "Reward for this episode was: 16.0\n",
      "Reward for this episode was: 26.0\n",
      "Reward for this episode was: 20.0\n",
      "Reward for this episode was: 21.0\n",
      "Reward for this episode was: 16.0\n",
      "Reward for this episode was: 15.0\n",
      "Reward for this episode was: 10.0\n",
      "Reward for this episode was: 30.0\n",
      "Reward for this episode was: 10.0\n"
     ]
    }
   ],
   "source": [
    "import numpy as np\n",
    "import gym\n",
    "import tensorflow as tf\n",
    "import pickle\n",
    "import math\n",
    "\n",
    "\n",
    "env = gym.make('CartPole-v0')\n",
    "env.reset()\n",
    "\n",
    "random_episodes = 0\n",
    "random_rewards = 0\n",
    "\n",
    "while random_episodes < 10:\n",
    "\tenv.render()\n",
    "\tobservation, reward, done, info = env.step(np.random.randint(0, 2))\n",
    "\trandom_rewards += reward\n",
    "\tif done:\n",
    "\t\trandom_episodes += 1\n",
    "\t\tprint(\"Reward for this episode was:\",random_rewards)\n",
    "\t\trandom_rewards = 0\n",
    "\t\tenv.reset()"
   ]
  },
  {
   "cell_type": "code",
   "execution_count": null,
   "metadata": {},
   "outputs": [],
   "source": []
  }
 ],
 "metadata": {
  "kernelspec": {
   "display_name": "Python 3",
   "language": "python",
   "name": "python3"
  },
  "language_info": {
   "codemirror_mode": {
    "name": "ipython",
    "version": 3
   },
   "file_extension": ".py",
   "mimetype": "text/x-python",
   "name": "python",
   "nbconvert_exporter": "python",
   "pygments_lexer": "ipython3",
   "version": "3.6.4"
  }
 },
 "nbformat": 4,
 "nbformat_minor": 2
}
